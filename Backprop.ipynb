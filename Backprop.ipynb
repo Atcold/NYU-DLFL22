{
 "cells": [
  {
   "cell_type": "code",
   "execution_count": null,
   "id": "7b058d8d-d3c2-442b-a97c-d8de34395908",
   "metadata": {},
   "outputs": [],
   "source": [
    "import torch\n",
    "from torch import nn"
   ]
  },
  {
   "cell_type": "code",
   "execution_count": null,
   "id": "5842a614-724a-4e1c-9e61-8acffc09dacd",
   "metadata": {},
   "outputs": [],
   "source": [
    "# Fixing nomenclature\n",
    "nn.LogSoftArgMax = nn.LogSoftmax\n",
    "torch.softargmax = torch.softmax"
   ]
  },
  {
   "cell_type": "code",
   "execution_count": null,
   "id": "6b1111f4-f324-4002-bfb8-2dfd4383dfaf",
   "metadata": {},
   "outputs": [],
   "source": [
    "# Get a random input\n",
    "torch.manual_seed(0)\n",
    "x = torch.randn(1, 2)\n",
    "print(f'{x = }')"
   ]
  },
  {
   "cell_type": "code",
   "execution_count": null,
   "id": "5c7ed57a-0daf-4ab6-ab1e-d74b3f80a118",
   "metadata": {},
   "outputs": [],
   "source": [
    "# Generate random target\n",
    "torch.manual_seed(2)\n",
    "y = torch.zeros(5, dtype=torch.long)\n",
    "c = torch.randint(5, (1,))\n",
    "y[c] = 1\n",
    "print(f'{c = }, {y = }')"
   ]
  },
  {
   "cell_type": "markdown",
   "id": "2b163485-82d5-4db7-831b-766dcce0e6f9",
   "metadata": {},
   "source": [
    "Model definition:\n",
    "\n",
    "$$\\begin{eqnarray*}\n",
    "h &=&\n",
    "f(\\boldsymbol{W_h x} + \\boldsymbol{b_h}) \\\\\n",
    "\\boldsymbol{s} &=&\n",
    "a(\\boldsymbol{h}) = \\boldsymbol{W_y h} + \\boldsymbol{b_y} \\\\\n",
    "\\boldsymbol{o} &=&\n",
    "g(\\boldsymbol{s}) \\\\\n",
    "f &=&\n",
    "(\\cdot)^+ \\\\\n",
    "g &=&\n",
    "\\operatorname{logsoftargmax} \\\\\n",
    "D(\\boldsymbol{y}, \\boldsymbol{o}) &=&\n",
    "- \\boldsymbol{y}^\\top \\boldsymbol{o}\n",
    "\\end{eqnarray*}$$"
   ]
  },
  {
   "cell_type": "code",
   "execution_count": null,
   "id": "cca6b27d-dbc4-4543-b67a-3d4b6deca1e0",
   "metadata": {},
   "outputs": [],
   "source": [
    "# Define model\n",
    "torch.manual_seed(1)\n",
    "predictor = nn.Sequential(\n",
    "    nn.Linear(2, 7),\n",
    "    nn.ReLU(),\n",
    ")\n",
    "a = nn.Linear(7, 5)\n",
    "g = nn.LogSoftArgMax(dim=-1)\n",
    "\n",
    "D = nn.NLLLoss()"
   ]
  },
  {
   "cell_type": "code",
   "execution_count": null,
   "id": "5e68dc73-f9c2-41f8-bd9e-04a15a8ac631",
   "metadata": {},
   "outputs": [],
   "source": [
    "# Generate intermediate and final output\n",
    "h = predictor(x)\n",
    "s = a(h)\n",
    "o = g(s)\n",
    "\n",
    "s.retain_grad()\n",
    "o.retain_grad()\n",
    "\n",
    "print(f'{s = },\\n{s.retains_grad = },\\n{s.grad = }\\n')\n",
    "print(f'{o = },\\n{o.retains_grad = },\\n{o.grad = }')"
   ]
  },
  {
   "cell_type": "code",
   "execution_count": null,
   "id": "6a23082a-4adb-4828-b5cc-fdf167f7d7da",
   "metadata": {},
   "outputs": [],
   "source": [
    "# Compute cost, energy, and loss\n",
    "L = F = D(o, c)\n",
    "print(f'{L = }')"
   ]
  },
  {
   "cell_type": "code",
   "execution_count": null,
   "id": "20be1174-622c-4987-a9cb-dc83b09793aa",
   "metadata": {},
   "outputs": [],
   "source": [
    "# Run back-propagation & grad accumulation\n",
    "L.backward()"
   ]
  },
  {
   "cell_type": "code",
   "execution_count": null,
   "id": "be3fd9df-3997-4261-9ff4-6e8a4f9a503c",
   "metadata": {},
   "outputs": [],
   "source": [
    "# Show computed gradients\n",
    "print(f'{o.grad = }\\n{s.grad = }')"
   ]
  },
  {
   "cell_type": "code",
   "execution_count": null,
   "id": "896627c1-5103-4baf-a54c-fd76cff87271",
   "metadata": {},
   "outputs": [],
   "source": [
    "# Check for correctness\n",
    "torch.softargmax(s.detach(), dim=-1) - y"
   ]
  },
  {
   "cell_type": "markdown",
   "id": "09f53f75-7d40-4d17-a683-bed5bc97414d",
   "metadata": {},
   "source": [
    "What about the affine transformation?\n",
    "\n",
    "$$\n",
    "\\begin{gather}\n",
    "a: \\mathbb{R}^d \\to \\mathbb{R}^K, \\quad \\boldsymbol{h} \\mapsto a(\\boldsymbol{h}) = \\boldsymbol{s}\\\\\n",
    "\\boldsymbol{s} = \\boldsymbol{W_y h} + \\boldsymbol{b_y} =\n",
    "\\boldsymbol{w}_1 h_1 +\n",
    "\\boldsymbol{w}_2 h_2 + \\cdots +\n",
    "\\boldsymbol{w}_d h_d + \n",
    "\\boldsymbol{b_y} \\\\\n",
    "\\boldsymbol{W_y} =\n",
    "[\\boldsymbol{w}_1\\; \\boldsymbol{w}_2\\; \\cdots\\; \\boldsymbol{w}_d]\n",
    "\\in \\mathbb{R}^{K \\times d}, \\quad \\boldsymbol{b_y} \\in \\mathbb{R}^K\\\\\n",
    "\\Rightarrow\n",
    "{\\partial \\mathcal{L} \\over \\partial \\boldsymbol{b_y}} = \\cdots, \\quad\n",
    "{\\partial \\mathcal{L} \\over \\partial \\boldsymbol{W_y}} = \\cdots\n",
    "\\end{gather}\n",
    "$$"
   ]
  },
  {
   "cell_type": "code",
   "execution_count": null,
   "id": "42a14504-de64-4095-a66c-34110adcfd1a",
   "metadata": {},
   "outputs": [],
   "source": [
    "# Check gradBias\n",
    "print(f'{a.bias.grad = }')"
   ]
  },
  {
   "cell_type": "code",
   "execution_count": null,
   "id": "2e8b975f-50f3-4728-ab6f-d681c13f9fb4",
   "metadata": {},
   "outputs": [],
   "source": [
    "# Check sizes\n",
    "print(f'''{h.size() = }\\n{s.grad.size() = }\n",
    "{a.weight.size() = }\\n{a.weight.grad.size() = }''')"
   ]
  },
  {
   "cell_type": "code",
   "execution_count": null,
   "id": "9fc0abe1-325b-4832-ac4c-097e8ee7f705",
   "metadata": {},
   "outputs": [],
   "source": [
    "# Compute gradWeight by hand\n",
    "s.grad.t() @ h.detach()"
   ]
  },
  {
   "cell_type": "code",
   "execution_count": null,
   "id": "4fdafdd9-7767-4221-89fb-a613815c0cd2",
   "metadata": {},
   "outputs": [],
   "source": [
    "# Verify what PyTorch computed\n",
    "print(f'a.weight.grad =\\n{a.weight.grad}')"
   ]
  }
 ],
 "metadata": {
  "kernelspec": {
   "display_name": "Python 3 (ipykernel)",
   "language": "python",
   "name": "python3"
  },
  "language_info": {
   "codemirror_mode": {
    "name": "ipython",
    "version": 3
   },
   "file_extension": ".py",
   "mimetype": "text/x-python",
   "name": "python",
   "nbconvert_exporter": "python",
   "pygments_lexer": "ipython3",
   "version": "3.10.0"
  }
 },
 "nbformat": 4,
 "nbformat_minor": 5
}
